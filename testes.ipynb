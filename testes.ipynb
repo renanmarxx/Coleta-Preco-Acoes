{
 "cells": [
  {
   "cell_type": "code",
   "execution_count": 4,
   "metadata": {},
   "outputs": [
    {
     "ename": "AttributeError",
     "evalue": "'Ticker' object has no attribute 'constituents'",
     "output_type": "error",
     "traceback": [
      "\u001b[0;31m---------------------------------------------------------------------------\u001b[0m",
      "\u001b[0;31mAttributeError\u001b[0m                            Traceback (most recent call last)",
      "Cell \u001b[0;32mIn[4], line 4\u001b[0m\n\u001b[1;32m      1\u001b[0m \u001b[38;5;28;01mimport\u001b[39;00m \u001b[38;5;21;01myfinance\u001b[39;00m \u001b[38;5;28;01mas\u001b[39;00m \u001b[38;5;21;01myf\u001b[39;00m\n\u001b[1;32m      3\u001b[0m \u001b[38;5;66;03m# Baixar os dados do S&P 500\u001b[39;00m\n\u001b[0;32m----> 4\u001b[0m sp500_tickers \u001b[38;5;241m=\u001b[39m \u001b[43myf\u001b[49m\u001b[38;5;241;43m.\u001b[39;49m\u001b[43mTicker\u001b[49m\u001b[43m(\u001b[49m\u001b[38;5;124;43m\"\u001b[39;49m\u001b[38;5;124;43m^GSPC\u001b[39;49m\u001b[38;5;124;43m\"\u001b[39;49m\u001b[43m)\u001b[49m\u001b[38;5;241;43m.\u001b[39;49m\u001b[43mconstituents\u001b[49m\u001b[38;5;241m.\u001b[39mkeys()\n\u001b[1;32m      6\u001b[0m \u001b[38;5;66;03m# Converter para uma lista\u001b[39;00m\n\u001b[1;32m      7\u001b[0m tickers_list \u001b[38;5;241m=\u001b[39m \u001b[38;5;28mlist\u001b[39m(sp500_tickers)\n",
      "\u001b[0;31mAttributeError\u001b[0m: 'Ticker' object has no attribute 'constituents'"
     ]
    }
   ],
   "source": [
    "import yfinance as yf\n",
    "\n",
    "# Baixar os dados do S&P 500\n",
    "sp500_tickers = yf.Ticker(\"^GSPC\").constituents.keys()\n",
    "\n",
    "# Converter para uma lista\n",
    "tickers_list = list(sp500_tickers)\n",
    "\n",
    "print(tickers_list)"
   ]
  },
  {
   "cell_type": "code",
   "execution_count": null,
   "metadata": {},
   "outputs": [],
   "source": [
    "st.header('Teste ST')"
   ]
  }
 ],
 "metadata": {
  "kernelspec": {
   "display_name": "coleta-preco-acoes-89nhONWW-py3.12",
   "language": "python",
   "name": "python3"
  },
  "language_info": {
   "codemirror_mode": {
    "name": "ipython",
    "version": 3
   },
   "file_extension": ".py",
   "mimetype": "text/x-python",
   "name": "python",
   "nbconvert_exporter": "python",
   "pygments_lexer": "ipython3",
   "version": "3.12.5"
  }
 },
 "nbformat": 4,
 "nbformat_minor": 2
}
